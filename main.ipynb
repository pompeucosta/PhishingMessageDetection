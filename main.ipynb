{
 "cells": [
  {
   "cell_type": "markdown",
   "metadata": {},
   "source": [
    "# Phishing Messages Detector"
   ]
  },
  {
   "cell_type": "code",
   "execution_count": 1,
   "metadata": {},
   "outputs": [
    {
     "name": "stderr",
     "output_type": "stream",
     "text": [
      "[nltk_data] Downloading package punkt to\n",
      "[nltk_data]     C:\\Users\\blues\\AppData\\Roaming\\nltk_data...\n",
      "[nltk_data]   Package punkt is already up-to-date!\n",
      "[nltk_data] Downloading package punkt_tab to\n",
      "[nltk_data]     C:\\Users\\blues\\AppData\\Roaming\\nltk_data...\n",
      "[nltk_data]   Package punkt_tab is already up-to-date!\n",
      "[nltk_data] Downloading package wordnet to\n",
      "[nltk_data]     C:\\Users\\blues\\AppData\\Roaming\\nltk_data...\n",
      "[nltk_data]   Package wordnet is already up-to-date!\n",
      "[nltk_data] Downloading package omw-1.4 to\n",
      "[nltk_data]     C:\\Users\\blues\\AppData\\Roaming\\nltk_data...\n",
      "[nltk_data]   Package omw-1.4 is already up-to-date!\n",
      "[nltk_data] Downloading package averaged_perceptron_tagger_eng to\n",
      "[nltk_data]     C:\\Users\\blues\\AppData\\Roaming\\nltk_data...\n",
      "[nltk_data]   Package averaged_perceptron_tagger_eng is already up-to-\n",
      "[nltk_data]       date!\n",
      "[nltk_data] Downloading package stopwords to\n",
      "[nltk_data]     C:\\Users\\blues\\AppData\\Roaming\\nltk_data...\n",
      "[nltk_data]   Package stopwords is already up-to-date!\n"
     ]
    },
    {
     "data": {
      "text/plain": [
       "True"
      ]
     },
     "execution_count": 1,
     "metadata": {},
     "output_type": "execute_result"
    }
   ],
   "source": [
    "import os\n",
    "import nltk\n",
    "import tqdm\n",
    "import joblib\n",
    "import polars as pl\n",
    "import numpy as np\n",
    "import seaborn as sns\n",
    "import matplotlib.pyplot as plt\n",
    "\n",
    "from imblearn.under_sampling import RandomUnderSampler\n",
    "\n",
    "from sklearn.naive_bayes import GaussianNB\n",
    "from sklearn.neural_network import MLPClassifier\n",
    "from sklearn.neighbors import KNeighborsClassifier\n",
    "from sklearn.linear_model import LogisticRegression\n",
    "from sklearn.ensemble import RandomForestClassifier\n",
    "\n",
    "from sklearn.feature_extraction.text import CountVectorizer, TfidfVectorizer\n",
    "\n",
    "from sklearn.model_selection import train_test_split,GridSearchCV\n",
    "from sklearn.metrics import classification_report,confusion_matrix\n",
    "\n",
    "from gensim.models.fasttext import FastText\n",
    "\n",
    "nltk.download('punkt')\n",
    "nltk.download('punkt_tab')\n",
    "nltk.download('wordnet')\n",
    "nltk.download('omw-1.4')\n",
    "nltk.download('averaged_perceptron_tagger_eng')\n",
    "nltk.download('stopwords')"
   ]
  },
  {
   "cell_type": "code",
   "execution_count": 2,
   "metadata": {},
   "outputs": [],
   "source": [
    "df = pl.read_json('./datasets/dataset.json')"
   ]
  },
  {
   "cell_type": "code",
   "execution_count": 3,
   "metadata": {},
   "outputs": [],
   "source": [
    "model_and_pre_processor = {\"pre-processor\": None, \"model\": None}"
   ]
  },
  {
   "cell_type": "markdown",
   "metadata": {},
   "source": [
    "## Data Pre-processing"
   ]
  },
  {
   "cell_type": "code",
   "execution_count": 4,
   "metadata": {},
   "outputs": [],
   "source": [
    "def _nltk_pos_tagger(nltk_tag):\n",
    "    if nltk_tag.startswith('J'):\n",
    "        return nltk.corpus.wordnet.ADJ\n",
    "    elif nltk_tag.startswith('V'):\n",
    "        return nltk.corpus.wordnet.VERB\n",
    "    elif nltk_tag.startswith('N'):\n",
    "        return nltk.corpus.wordnet.NOUN\n",
    "    elif nltk_tag.startswith('R'):\n",
    "        return nltk.corpus.wordnet.ADV\n",
    "    else:          \n",
    "        return None\n",
    "\n",
    "\n",
    "def _nltk_pos_lemmatizer(lemmatizer, token, tag):\n",
    "    if tag is None:\n",
    "        return lemmatizer.lemmatize(token)\n",
    "    else:        \n",
    "        return lemmatizer.lemmatize(token, tag)\n",
    "\n",
    "\n",
    "def text_pre_processing(txt, m=2):\n",
    "    if txt is not None:\n",
    "        lemmatizer = nltk.WordNetLemmatizer()\n",
    "        stop_words = set(nltk.corpus.stopwords.words('english'))\n",
    "\n",
    "        tokens = nltk.word_tokenize(txt)\n",
    "        tokens = [w for w in tokens if w.isalpha()]\n",
    "        tokens = [w for w in tokens if w not in stop_words]\n",
    "        tokens = nltk.pos_tag(tokens)\n",
    "        tokens = [(t[0], _nltk_pos_tagger(t[1])) for t in tokens]\n",
    "        tokens = [_nltk_pos_lemmatizer(lemmatizer, w, t).lower() for w,t in tokens]\n",
    "        tokens = [w for w in tokens if len(w) > m]\n",
    "    else:\n",
    "        tokens = []\n",
    "    return tokens"
   ]
  },
  {
   "cell_type": "code",
   "execution_count": 5,
   "metadata": {},
   "outputs": [],
   "source": [
    "dataset = [(text, label) for (text, label) in df.rows()]"
   ]
  },
  {
   "cell_type": "code",
   "execution_count": 6,
   "metadata": {},
   "outputs": [],
   "source": [
    "corpus = [text for text, _ in dataset]\n",
    "y = [label for _, label in dataset]"
   ]
  },
  {
   "cell_type": "code",
   "execution_count": 7,
   "metadata": {},
   "outputs": [],
   "source": [
    "tokens_clean = joblib.Parallel(n_jobs=-1)(joblib.delayed(text_pre_processing)(text) for text in corpus)\n",
    "tokens_merge = [' '.join(line) for line in tokens_clean]"
   ]
  },
  {
   "cell_type": "markdown",
   "metadata": {},
   "source": [
    "### Bag of Words"
   ]
  },
  {
   "cell_type": "code",
   "execution_count": 10,
   "metadata": {},
   "outputs": [],
   "source": [
    "X_train, X_test, y_train, y_test = train_test_split(tokens_merge, y, test_size=0.2, random_state=42)"
   ]
  },
  {
   "cell_type": "code",
   "execution_count": 11,
   "metadata": {},
   "outputs": [],
   "source": [
    "pre_processor = \"Bag of Words\"\n",
    "cv = CountVectorizer(ngram_range = (1, 2), max_features=512)\n",
    "X_train = cv.fit_transform(X_train).toarray()\n",
    "X_test = cv.transform(X_test).toarray()\n",
    "model_and_pre_processor[\"pre-processor\"] = cv"
   ]
  },
  {
   "cell_type": "markdown",
   "metadata": {},
   "source": [
    "### Fast Text"
   ]
  },
  {
   "cell_type": "code",
   "execution_count": 8,
   "metadata": {},
   "outputs": [],
   "source": [
    "pre_processor = \"Fast text\"\n",
    "text_model = FastText(vector_size=512, window=7, min_count=3, workers=os.cpu_count(), seed=42)\n",
    "text_model.build_vocab(tokens_clean)\n",
    "model_and_pre_processor[\"pre-processor\"] = text_model"
   ]
  },
  {
   "cell_type": "code",
   "execution_count": 9,
   "metadata": {},
   "outputs": [],
   "source": [
    "def div_norm(x):\n",
    "   norm_value = np.linalg.norm(x)\n",
    "   if norm_value > 0:\n",
    "       return x * ( 1.0 / norm_value)\n",
    "   else:\n",
    "       return x\n",
    "\n",
    "def word_vector_to_sentence_vector(sentence:list, model):\n",
    "    vectors = []\n",
    "    # for all the tokens in the setence\n",
    "    for token in sentence:\n",
    "        if token in model:\n",
    "            vectors.append(model[token])\n",
    "    # add the EOS token\n",
    "    if '\\n' in model:\n",
    "        vectors.append(model['\\n'])\n",
    "    # normalize all the vectors\n",
    "    vectors = [div_norm(x) for x in vectors]\n",
    "    return np.mean(vectors, axis=0)"
   ]
  },
  {
   "cell_type": "code",
   "execution_count": 10,
   "metadata": {},
   "outputs": [
    {
     "name": "stderr",
     "output_type": "stream",
     "text": [
      "100%|██████████| 20301/20301 [01:06<00:00, 307.22it/s] \n"
     ]
    }
   ],
   "source": [
    "X = np.array([word_vector_to_sentence_vector(sentence, text_model.wv) for sentence in tqdm.tqdm(tokens_clean)])"
   ]
  },
  {
   "cell_type": "code",
   "execution_count": 20,
   "metadata": {},
   "outputs": [],
   "source": [
    "X_train, X_test, y_train, y_test = train_test_split(X, y, test_size=0.2, random_state=42)"
   ]
  },
  {
   "cell_type": "markdown",
   "metadata": {},
   "source": [
    "### TF-IDF"
   ]
  },
  {
   "cell_type": "code",
   "execution_count": 23,
   "metadata": {},
   "outputs": [],
   "source": [
    "X_train, X_test, y_train, y_test = train_test_split(tokens_merge, y, test_size=0.2, random_state=42)"
   ]
  },
  {
   "cell_type": "code",
   "execution_count": 24,
   "metadata": {},
   "outputs": [],
   "source": [
    "pre_processor = \"TF-IDF\"\n",
    "vectorizer = TfidfVectorizer(max_features=512)\n",
    "X_train = vectorizer.fit_transform(X_train).toarray()\n",
    "X_test = vectorizer.transform(X_test).toarray()\n",
    "model_and_pre_processor[\"pre-processor\"] = vectorizer"
   ]
  },
  {
   "cell_type": "markdown",
   "metadata": {},
   "source": [
    "## Train Model and Evaluate"
   ]
  },
  {
   "cell_type": "code",
   "execution_count": 21,
   "metadata": {},
   "outputs": [
    {
     "name": "stdout",
     "output_type": "stream",
     "text": [
      "Pre-Process used: Fast text\n",
      "Classification Report for LR:\n",
      "\n",
      "              precision    recall  f1-score   support\n",
      "\n",
      "      Benign       0.63      1.00      0.77      2542\n",
      "    Phishing       0.96      0.02      0.03      1519\n",
      "\n",
      "    accuracy                           0.63      4061\n",
      "   macro avg       0.79      0.51      0.40      4061\n",
      "weighted avg       0.75      0.63      0.49      4061\n",
      "\n"
     ]
    },
    {
     "data": {
      "image/png": "[encoded data removed]",
      "text/plain": [
       "<Figure size 640x480 with 2 Axes>"
      ]
     },
     "metadata": {},
     "output_type": "display_data"
    },
    {
     "name": "stdout",
     "output_type": "stream",
     "text": [
      "Classification Report for KNN:\n",
      "\n",
      "              precision    recall  f1-score   support\n",
      "\n",
      "      Benign       0.87      0.92      0.89      2542\n",
      "    Phishing       0.85      0.78      0.81      1519\n",
      "\n",
      "    accuracy                           0.87      4061\n",
      "   macro avg       0.86      0.85      0.85      4061\n",
      "weighted avg       0.86      0.87      0.86      4061\n",
      "\n"
     ]
    },
    {
     "data": {
      "image/png": "[encoded data removed]",
      "text/plain": [
       "<Figure size 640x480 with 2 Axes>"
      ]
     },
     "metadata": {},
     "output_type": "display_data"
    },
    {
     "name": "stdout",
     "output_type": "stream",
     "text": [
      "Classification Report for RFC:\n",
      "\n",
      "              precision    recall  f1-score   support\n",
      "\n",
      "      Benign       0.81      0.99      0.89      2542\n",
      "    Phishing       0.98      0.61      0.75      1519\n",
      "\n",
      "    accuracy                           0.85      4061\n",
      "   macro avg       0.89      0.80      0.82      4061\n",
      "weighted avg       0.87      0.85      0.84      4061\n",
      "\n"
     ]
    },
    {
     "data": {
      "image/png": "[encoded data removed]",
      "text/plain": [
       "<Figure size 640x480 with 2 Axes>"
      ]
     },
     "metadata": {},
     "output_type": "display_data"
    },
    {
     "name": "stdout",
     "output_type": "stream",
     "text": [
      "Classification Report for MLP:\n",
      "\n",
      "              precision    recall  f1-score   support\n",
      "\n",
      "      Benign       0.95      0.93      0.94      2542\n",
      "    Phishing       0.89      0.92      0.91      1519\n",
      "\n",
      "    accuracy                           0.93      4061\n",
      "   macro avg       0.92      0.93      0.92      4061\n",
      "weighted avg       0.93      0.93      0.93      4061\n",
      "\n"
     ]
    },
    {
     "data": {
      "image/png": "[encoded data removed]",
      "text/plain": [
       "<Figure size 640x480 with 2 Axes>"
      ]
     },
     "metadata": {},
     "output_type": "display_data"
    }
   ],
   "source": [
    "params = {\n",
    "    # 'LR': {\n",
    "    #     'C': [0.01, 0.1, 1, 10],\n",
    "    #     'solver': ['lbfgs', 'liblinear','saga','sag'],\n",
    "    #     'max_iter': [100, 200, 300]\n",
    "    # },\n",
    "    # 'KNN': {\n",
    "    #     'n_neighbors': [3, 5, 7, 10],\n",
    "    #     'weights': ['uniform', 'distance'],\n",
    "    #     'metric': ['euclidean', 'manhattan']\n",
    "    # },\n",
    "    # 'RFC': {\n",
    "    #     'n_estimators': [50, 100, 150, 200],\n",
    "    #     'max_depth': [None, 10, 20, 30],\n",
    "    #     'min_samples_split': [2, 5, 10],\n",
    "    #     'min_samples_leaf': [1, 2, 4]\n",
    "    # },\n",
    "    # 'MLP': {\n",
    "    #     'hidden_layer_sizes': [(1,),(100, 100),(128,64,32), (256,128,64)],\n",
    "    #     'activation': ['relu', 'tanh', 'identity', 'logistic'],\n",
    "    #     'solver': ['adam', 'sgd', 'lbfgs'],\n",
    "    #     'learning_rate_init': [0.001, 0.01],\n",
    "    # }\n",
    "}\n",
    "\n",
    "# define the list of classifiers\n",
    "clfs = [\n",
    "    # best: {'C': 0.1, 'max_iter': 100, 'solver': 'lbfgs'}\n",
    "    ('LR', LogisticRegression(random_state=42,C=0.1)),\n",
    "    # best: {'metric': 'euclidean', 'n_neighbors': 5, 'weights': 'distance'}\n",
    "    ('KNN', KNeighborsClassifier(metric='euclidean',weights='distance')),\n",
    "    # best: {'max_depth': None, 'min_samples_leaf': 1, 'min_samples_split': 10, 'n_estimators': 200} \n",
    "    ('RFC', RandomForestClassifier(random_state=42,n_estimators=200,min_samples_split=10)),\n",
    "    # best: {'activation': 'relu', 'hidden_layer_sizes': (256, 128, 64), 'learning_rate_init': 0.001, 'solver': 'adam'}\n",
    "    ('MLP', MLPClassifier(random_state=42, learning_rate='adaptive',hidden_layer_sizes=(256,128,64), max_iter=1000))\n",
    "]\n",
    "\n",
    "print(f\"Pre-Process used: {pre_processor}\")\n",
    "\n",
    "with joblib.parallel_backend('loky', n_jobs=-1):\n",
    "    for label, clf in clfs:\n",
    "\n",
    "        if label in list(params.keys()):\n",
    "            grid_search = GridSearchCV(estimator= clf, param_grid=params[label], cv=3,verbose= 1)\n",
    "            grid_search.fit(X_train, y_train)\n",
    "            best_clf = grid_search.best_estimator_\n",
    "\n",
    "            print(f\"Best parameters for {label}: {grid_search.best_params_}\")\n",
    "\n",
    "            # Use the best model to predict and evaluate\n",
    "            predictions = best_clf.predict(X_test)\n",
    "        else:\n",
    "            # train the model\n",
    "            clf.fit(X_train, y_train)\n",
    "\n",
    "            # generate predictions\n",
    "            predictions = clf.predict(X_test)\n",
    "\n",
    "        # we want to save the mlp one\n",
    "        if label == \"MLP\":\n",
    "            model_and_pre_processor[\"model\"] = clf\n",
    "\n",
    "        print(f\"Classification Report for {label}:\\n\")\n",
    "        print(classification_report(y_test, predictions,target_names=[\"Benign\",\"Phishing\"]))\n",
    "\n",
    "        cm = confusion_matrix(y_test, predictions)\n",
    "\n",
    "        sns.heatmap(cm / np.sum(cm), annot=True, fmt='.2%', cmap='Blues', xticklabels=['Benign', 'Phishing'], yticklabels=['Benign', 'Phishing'])\n",
    "        plt.title(f\"Confusion Matrix - {label}\")\n",
    "        plt.show()"
   ]
  },
  {
   "cell_type": "markdown",
   "metadata": {},
   "source": [
    "## Saving the model"
   ]
  },
  {
   "cell_type": "code",
   "execution_count": 14,
   "metadata": {},
   "outputs": [
    {
     "data": {
      "text/plain": [
       "['.\\\\my_trained_model.joblib']"
      ]
     },
     "execution_count": 14,
     "metadata": {},
     "output_type": "execute_result"
    }
   ],
   "source": [
    "SAVE_PATH = os.path.join(\".\",\"my_trained_model.joblib\")\n",
    "joblib.dump(model_and_pre_processor,SAVE_PATH)"
   ]
  }
 ],
 "metadata": {
  "kernelspec": {
   "display_name": "venv",
   "language": "python",
   "name": "python3"
  },
  "language_info": {
   "codemirror_mode": {
    "name": "ipython",
    "version": 3
   },
   "file_extension": ".py",
   "mimetype": "text/x-python",
   "name": "python",
   "nbconvert_exporter": "python",
   "pygments_lexer": "ipython3",
   "version": "3.12.8"
  }
 },
 "nbformat": 4,
 "nbformat_minor": 2
}
